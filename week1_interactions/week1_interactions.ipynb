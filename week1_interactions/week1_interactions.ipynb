{
 "cells": [
  {
   "cell_type": "markdown",
   "id": "16ac17e6-fa13-4794-8e43-cd93f427ab90",
   "metadata": {},
   "source": [
    "# **Don't Do That by Hand!!!**\n",
    "## A Coding Guide to the Interactions Homework\n",
    "### Authors: Christopher Valdes \\& Gia Jadick\n",
    "\n",
    "*Integrating code \\& markdown cells with Jupyter notebooks; A.K.A how to make your problem sets beautiful and your TAs happy*\n",
    "\n",
    "![Fun](meme.jpg)\n"
   ]
  },
  {
   "cell_type": "markdown",
   "id": "e0bb5f8a-dd62-4218-91e2-26ae65d218e9",
   "metadata": {},
   "source": [
    "Welcome! Now it's your turn to make a neat ipynb file with neatly formatted text and code. Bring tears to your TA's eyes with the sheer beauty and legibility offering a reprieve from the endless black hole of grading. For your reference, here's your key markdown formatting:"
   ]
  },
  {
   "cell_type": "markdown",
   "id": "f3192444-559f-4c09-9731-44d2c1205f21",
   "metadata": {},
   "source": [
    "# This line is a title\n",
    "## This is a major heading\n",
    "### This is a subheading\n",
    "#### This is a smaller subheading\n",
    "\n",
    "This is a line of text. Make things *italic*. Be **bold**.\n",
    "\n",
    "The following is an equation:\n",
    "\n",
    "$$\n",
    "\\frac{x}{y} = x / y\n",
    "$$\n"
   ]
  },
  {
   "cell_type": "markdown",
   "id": "9d6afac5-9393-4034-995a-a4494122921d",
   "metadata": {},
   "source": [
    "Your turn! Work through the *Interactions* practice problem by creating a markdown cell to introduce the problem, writing a code cell to solve the problem and print the answer, and then rendering this ipynb to PDF. So:\n",
    "\n",
    "- Create a markdown title that labels the problem. (This makes sure the problem is *numbered* in the final PDF render).\n",
    "- Add text to the markdown cell including the equation used (and textbook reference number).\n",
    "- Create a code cell with (i) a function defining the equation, (ii) variables with all the necessary constants, and (iii) a print statement for the answer.\n",
    "- Repeat for the second practice problem. For any problem with multiple sub-parts, label the main question with a title and each sub-part with a major heading (this makes nicely numbered subsections in the rendered PDF).\n",
    "- Convert to PDF (see instructions). Make sure to check that everything rendered correctly! "
   ]
  },
  {
   "cell_type": "markdown",
   "id": "f415b122-4bcc-404f-ab46-581210e793c4",
   "metadata": {},
   "source": [
    "# Interactions example question"
   ]
  },
  {
   "cell_type": "markdown",
   "id": "0ba48803-90d9-47c4-b512-5fad9b5b5064",
   "metadata": {},
   "source": [
    "## Part 1"
   ]
  },
  {
   "cell_type": "code",
   "execution_count": 1,
   "id": "82de2b07-2094-4978-a12a-2c9efbf65531",
   "metadata": {},
   "outputs": [
    {
     "name": "stdout",
     "output_type": "stream",
     "text": [
      "the first answer\n"
     ]
    }
   ],
   "source": [
    "# solve the problem\n",
    "print('the first answer')"
   ]
  },
  {
   "cell_type": "markdown",
   "id": "bca89bc8-d084-4fee-9c54-a5e4f5f0071f",
   "metadata": {},
   "source": [
    "## Part 2"
   ]
  },
  {
   "cell_type": "code",
   "execution_count": 2,
   "id": "eb2772cf-256a-455e-905f-337287e5cd98",
   "metadata": {},
   "outputs": [
    {
     "name": "stdout",
     "output_type": "stream",
     "text": [
      "the second answer\n"
     ]
    }
   ],
   "source": [
    "# solve it again, but better\n",
    "print('the second answer')"
   ]
  },
  {
   "cell_type": "markdown",
   "id": "56b48d6f-0955-464d-b999-71253f631473",
   "metadata": {},
   "source": [
    "# Potential PDF render issues\n",
    "I have found that Jupyter nbconvert will sometimes fail to render to PDF if you have some peculiarities that are OK with typical LaTeX. Beware these pitfalls:\n",
    "\n",
    "- Trailing whitespace before/after `$` in your equations. For example: `$\\frac{x}{y}$` = OK! *whereas* `$ \\frac{x}{y}$` = NOT okay! Spot the difference?"
   ]
  },
  {
   "cell_type": "markdown",
   "id": "7068ce55-63d1-4c3d-b05f-f568431928a7",
   "metadata": {},
   "source": [
    "# Advanced: Editing metadata to add title, author, date\n",
    "\n",
    "By default, your PDF-rendered file will have the ipynb file as the title and no author. You can amend this manually by going to the metadata. In the Jupyter Lab file browser, right-click the ipynb file and choose \"Open With > Editor\". Scroll down or CTRL/CMD + F \"metadata\". You'll probably see something like:\n",
    "```\n",
    " \"metadata\": {\n",
    "  \"kernelspec\": {\n",
    "   \"display_name\": \"Python 3 (ipykernel)\",\n",
    "   \"language\": \"python\",\n",
    "   \"name\": \"python3\"\n",
    "  },\n",
    "  \"language_info\": {\n",
    "   \"codemirror_mode\": {\n",
    "    \"name\": \"ipython\",\n",
    "    \"version\": 3\n",
    "   },\n",
    "   \"file_extension\": \".py\",\n",
    "   \"mimetype\": \"text/x-python\",\n",
    "   \"name\": \"python\",\n",
    "   \"nbconvert_exporter\": \"python\",\n",
    "   \"pygments_lexer\": \"ipython3\",\n",
    "   \"version\": \"3.12.0\"\n",
    "  },\n",
    "```\n",
    "To add your info, insert the following on the line immediately under `\"metadata\": {`:\n",
    "```\n",
    "  \"title\": \"My Real Title\",\n",
    "  \"date\": \"Today\",\n",
    "  \"authors\": [\n",
    "    {\"name\": \"Me\"}\n",
    "  ],\n",
    "```\n",
    "I suggest doing this only after you have finished editing your code and markdown in the Notebook view. If you have your file open in both Notebook and Editor views, you risk accidentally editing both simultaneously, which can give clashing versions that will overwrite each other and possibly not save precious edits. If you want to change the metadata, close Notebook and open Editor; and when you are done with the Editor, close it before re-opening Notebook."
   ]
  }
 ],
 "metadata": {
  "kernelspec": {
   "display_name": "Python 3 (ipykernel)",
   "language": "python",
   "name": "python3"
  },
  "language_info": {
   "codemirror_mode": {
    "name": "ipython",
    "version": 3
   },
   "file_extension": ".py",
   "mimetype": "text/x-python",
   "name": "python",
   "nbconvert_exporter": "python",
   "pygments_lexer": "ipython3",
   "version": "3.12.0"
  }
 },
 "nbformat": 4,
 "nbformat_minor": 5
}
