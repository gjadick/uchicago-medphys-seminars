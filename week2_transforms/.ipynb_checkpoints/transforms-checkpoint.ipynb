{
 "cells": [
  {
   "cell_type": "markdown",
   "id": "0ab59463-9da2-4e9b-8e53-47070ad8cfaf",
   "metadata": {},
   "source": [
    "# Week 2: Essential 2D Transforms & Filters"
   ]
  },
  {
   "cell_type": "code",
   "execution_count": null,
   "id": "52c48e70-b2c1-4fc9-999d-e9affa867a50",
   "metadata": {},
   "outputs": [],
   "source": [
    "import numpy as np\n",
    "import scipy as sp\n",
    "import imageio\n",
    "from PIL import Image\n",
    "import matplotlib.pyplot as plt\n",
    "\n",
    "plt.rcParams.update({'figure.dpi':300})"
   ]
  },
  {
   "cell_type": "markdown",
   "id": "b46c094d-f899-43ec-801d-a1918cdfe23c",
   "metadata": {},
   "source": [
    "# Radon transform"
   ]
  },
  {
   "cell_type": "code",
   "execution_count": null,
   "id": "4b1a828f-a152-4ea2-86f4-e36d76517582",
   "metadata": {},
   "outputs": [],
   "source": [
    "## Helpers\n",
    "\n",
    "def show_imvals(ax, img):\n",
    "    \"\"\"for nice image plotting with intensity labels\"\"\"\n",
    "    imnorm = img - np.min(img)\n",
    "    if np.std(imnorm)>0:\n",
    "        imnorm = imnorm / np.max(imnorm)\n",
    "    Nk, Nk = imnorm.shape\n",
    "    ax.imshow(imnorm, cmap='gray', vmin=-1,vmax=1,extent=(0,Nk,0,Nk))\n",
    "    ax.set_xticks(range(Nk+1))\n",
    "    ax.set_yticks(range(Nk+1))\n",
    "    ax.grid(which='both',color='k')\n",
    "    \n",
    "    # label vals\n",
    "    fsz = 12*3/Nk\n",
    "    for i in range(Nk):\n",
    "        for j in range(Nk):\n",
    "            ax.text(i+0.5,j+0.5,img[::-1, :][j,i],fontsize=fsz,  ha='center', va='center')\n",
    "\n",
    "class Phantom2D:\n",
    "    \"\"\"Class to handle input phantom and corresponding params. \"\"\"\n",
    "    def __init__(self, M, dtype=np.uint8):\n",
    "        self.M = M\n",
    "        self.Ny, self.Nx = self.M.shape\n",
    "\n",
    "def raytrace(phantom, phi, xi, dl=0.1, plot=False):\n",
    "    \"\"\"a function to retrieve a single line integral through a 2D matrix\"\"\"\n",
    "    # initialize rotated P0, Pf (start and end points for ray)\n",
    "    rotation_matrix = np.array([[np.cos(phi), -np.sin(phi)],\n",
    "                                [np.sin(phi), np.cos(phi)]])\n",
    "    P0 = rotation_matrix@np.array([xi, phantom.Nx])\n",
    "    Pf = rotation_matrix@np.array([xi, -phantom.Nx])\n",
    "    Px, Py = np.array([P0,Pf]).T + [phantom.Nx/2,phantom.Nx/2]\n",
    "    P0, Pf = np.array([Px,Py]).T # shifted to phantom indexing (0->Nx, 0->Ny)\n",
    "    \n",
    "    # get evaluation points for line profile \n",
    "    points = []\n",
    "    for n in range(-int(2*phantom.Nx/dl),int(2*phantom.Nx/dl)):\n",
    "        point = P0 + n*dl*np.array([np.cos(phi+np.pi/2),np.sin(phi+np.pi/2)])\n",
    "        if point[0]>0 and point[0]<phantom.Nx and point[1]>0 and point[1]<phantom.Ny:\n",
    "            points.append(point)\n",
    "\n",
    "    # calculate the line profile\n",
    "    values = []\n",
    "    for point in points:\n",
    "        px, py = point\n",
    "        ix, iy = int(px), int(phantom.Ny-py)\n",
    "        values.append(phantom.M[iy,ix])\n",
    "    \n",
    "    if plot:\n",
    "        # create plot to visualize\n",
    "        fig,ax=plt.subplots(1,2, figsize=[6,3], facecolor='w')\n",
    "        \n",
    "        ax[0].set_title('object')\n",
    "        ax[1].set_title('line profile')\n",
    "\n",
    "        ax[0].plot(Px, Py, 'ro-')\n",
    "        show_imvals(ax[0] ,phantom.M)\n",
    "\n",
    "        ax[1].plot(dl*np.arange(len(values)), values, 'r-')\n",
    "        ax[1].set_ylim(np.min(phantom.M)-0.2,np.max(phantom.M)+0.2)\n",
    "        #plt.savefig('examples/line_profile.png')\n",
    "        plt.show()\n",
    "    \n",
    "    return np.sum(values)*dl # line integral\n",
    "\n",
    "def RT2D(phantom, Nxi=20, Nphi=20, plot_sino=True, get_sino=False):\n",
    "    \"\"\"a function to calculate and show the 2D Radon Transform of a 2D matrix\"\"\"\n",
    "    # make a sinogram\n",
    "    N = np.min([phantom.Nx, phantom.Ny])\n",
    "    xi_vals = np.linspace(-N/2+.1, N/2-.1, Nxi)  # bounds must be within +-N/2 !!\n",
    "    phi_vals = np.linspace(0, 2*np.pi, Nphi)\n",
    "    sino = np.zeros([len(phi_vals), len(xi_vals)])\n",
    "    for i,xi in enumerate(xi_vals):\n",
    "        for j,phi in enumerate(phi_vals):\n",
    "            sino[j,i] = raytrace(phantom, phi, xi)\n",
    "    if plot_sino:\n",
    "        fig,ax=plt.subplots(1, 2, figsize=[6,3], facecolor='w')\n",
    "        ax[0].imshow(phantom.M)\n",
    "        ax[0].set_xlabel('$x$')\n",
    "        ax[0].set_ylabel('$y$')\n",
    "        ax[0].set_title('object $f(x,y)$')\n",
    "        ax[1].imshow(sino, \n",
    "                  extent=(min(xi_vals),max(xi_vals), min(phi_vals),max(phi_vals)), \n",
    "                  aspect=(max(xi_vals)-min(xi_vals))/(max(phi_vals)-min(phi_vals)))\n",
    "        ax[1].set_xlabel(r'$\\xi$')\n",
    "        ax[1].set_ylabel(r'$\\phi$')\n",
    "        ax[1].set_title(r'sinogram $p(\\xi,\\phi)$')\n",
    "        fig.tight_layout()\n",
    "        #plt.savefig('examples/sino.png')\n",
    "        plt.show()\n",
    "    if get_sino:\n",
    "        return sino"
   ]
  },
  {
   "cell_type": "markdown",
   "id": "b1fd9d8f-ac16-466d-a726-ba5c113c027e",
   "metadata": {},
   "source": [
    "## Single line profiles"
   ]
  },
  {
   "cell_type": "code",
   "execution_count": null,
   "id": "97668884-0454-4135-a8e9-2528839a922c",
   "metadata": {},
   "outputs": [],
   "source": [
    "%%time\n",
    "\n",
    "# test a few line profiles\n",
    "phantom = Phantom2D(np.array([[0,0,0,0,0],\n",
    "                           [0,2,1,1,0],\n",
    "                           [0,1,1,1,0],\n",
    "                           [0,2,2,2,0],\n",
    "                           [0,0,0,0,0]]))\n",
    "\n",
    "raytrace(phantom,   0*np.pi,   0, plot=True)\n",
    "raytrace(phantom, .75*np.pi, 0.2, plot=True)\n",
    "raytrace(phantom, 1.2*np.pi, 0.5, plot=True)"
   ]
  },
  {
   "cell_type": "markdown",
   "id": "46ff84ce-b953-4404-bf8a-1d6db01db18e",
   "metadata": {},
   "source": [
    "## Full sinograms"
   ]
  },
  {
   "cell_type": "markdown",
   "id": "d2d913c4-4873-4520-8c92-0dd8dbbcdb7c",
   "metadata": {},
   "source": [
    "### point sources\n",
    "\n",
    "Do you remember the analytical expression for the Radon transform of a point source? (Or, can you derive it?)"
   ]
  },
  {
   "cell_type": "code",
   "execution_count": null,
   "id": "a87218c7-2515-4d97-8fcb-0dc348b73323",
   "metadata": {},
   "outputs": [],
   "source": [
    "point_center = Phantom2D(np.array([[0,0,0,0,0],\n",
    "                                  [0,0,0,0,0],\n",
    "                                  [0,0,1,0,0],\n",
    "                                  [0,0,0,0,0],\n",
    "                                  [0,0,0,0,0]]))\n",
    "point_skew   = Phantom2D(np.array([[0,0,0,0,0],\n",
    "                                  [0,0,0,0,0],\n",
    "                                  [0,0,0,0,0],\n",
    "                                  [0,0,0,1,0],\n",
    "                                  [0,0,0,0,0]]))\n",
    "\n",
    "for point in [point_center, point_skew]:\n",
    "    RT2D(point)"
   ]
  },
  {
   "cell_type": "markdown",
   "id": "a54b350a-9926-4315-a690-51a5ef54c9ef",
   "metadata": {},
   "source": [
    "# bigger objects"
   ]
  },
  {
   "cell_type": "code",
   "execution_count": null,
   "id": "62b41c7d-dffe-4d83-9c31-0e49ebd80b1e",
   "metadata": {},
   "outputs": [],
   "source": [
    "%%time \n",
    "\n",
    "square_uniform = Phantom2D(np.array([[0,0,0,0,0],\n",
    "                                   [0,1,1,1,0],\n",
    "                                   [0,1,1,1,0],\n",
    "                                   [0,1,1,1,0],\n",
    "                                   [0,0,0,0,0]]))\n",
    "\n",
    "square_nonuni = Phantom2D(np.array([[0,0,0,0,0],\n",
    "                                   [0,1,1,1,0],\n",
    "                                   [0,2,2,2,0],\n",
    "                                   [0,3,3,3,0],\n",
    "                                   [0,0,0,0,0]]))\n",
    "\n",
    "N = 50\n",
    "circle = np.zeros([N,N])\n",
    "radius = 10\n",
    "for i in range(N):\n",
    "    for j in range(N):\n",
    "        if np.sqrt((i-N/2)**2 + (j-N/2)**2)<=radius:\n",
    "            circle[i,j]=1\n",
    "            \n",
    "circle_phantom = Phantom2D(circle)\n",
    "\n",
    "for phant in [square_uniform, square_nonuni, circle_phantom]:\n",
    "    RT2D(phant)\n"
   ]
  },
  {
   "cell_type": "markdown",
   "id": "c43861d3-b98c-4e01-836c-7ac5fe1dad6c",
   "metadata": {},
   "source": [
    "# Fourier transform\n",
    "\n",
    "Scipy has a variety of useful FFT (fast Fourier transform) functions you can implement:\n",
    "\n",
    "https://docs.scipy.org/doc/scipy/reference/fftpack.html\n",
    "\n",
    "Make sure you know when to use each; for example, the rfft versus regular fft. Is the output real or complex? There are also corresponding inverse functions irfft and ifft. \n",
    "\n",
    "For our 2D transforms, we'll be using fft2. There is no scipy rfft2 currently."
   ]
  },
  {
   "cell_type": "code",
   "execution_count": null,
   "id": "a1a0897e-6aa9-4061-a612-1fff21722100",
   "metadata": {},
   "outputs": [],
   "source": [
    "filename = 'imgs/stock1.jpg' \n",
    "img = Image.open(filename)\n",
    "data_rgb = np.asarray(img, dtype='int32')\n",
    "data = np.mean(data_rgb, axis=2)\n",
    "if max(data.shape) > 600:  # if big, downsample to save run time\n",
    "    data = data[::2,::2]\n",
    "\n",
    "fig, ax = plt.subplots()\n",
    "ax.imshow(data, cmap='gray')\n",
    "ax.axis('off')\n",
    "print(data.shape)\n",
    "plt.show()"
   ]
  },
  {
   "cell_type": "code",
   "execution_count": null,
   "id": "157e9c93-f7e3-4960-b876-c5d73154fd21",
   "metadata": {},
   "outputs": [],
   "source": [
    "%%time\n",
    "\n",
    "# downsample for even more time save\n",
    "test = data[::4,::4]\n",
    "\n",
    "# take the FFT\n",
    "test_ft = sp.fftpack.fft2(test)\n",
    "\n",
    "fig, ax = plt.subplots(1, 3, figsize=(8,3))\n",
    "ax[0].set_title('Original'); ax[0].imshow(test)\n",
    "ax[1].set_title('FT (imag)'); ax[1].imshow(test_ft.imag)\n",
    "ax[2].set_title('FT (real)'); ax[2].imshow(test_ft.real)\n",
    "for axi in ax:\n",
    "    axi.axis('off')\n",
    "plt.show()"
   ]
  },
  {
   "cell_type": "markdown",
   "id": "98856898-1f34-4530-a388-f00e6cdf1012",
   "metadata": {},
   "source": [
    "Why is the FT empty in the middle? To understand this, we need to know what the axes of the FT represent. First, the FT is symmetric. Second, by default, the 0-frequency origin is in the corner, just like the 0-distance origin in the original picture is in the corner. If we want the 0 frequency in the middle of the image, like we typically draw, we can use fftshift.\n",
    "\n",
    "This is nice for plotting, but be mindful! Make sure you unshift before inverse transforming."
   ]
  },
  {
   "cell_type": "code",
   "execution_count": null,
   "id": "6a4f3aed-2496-488f-ab48-d79fdd10bf4c",
   "metadata": {},
   "outputs": [],
   "source": [
    "test_ft_shift = sp.fftpack.fftshift(test_ft)\n",
    "\n",
    "fig, ax = plt.subplots(1, 3, figsize=(8,3))\n",
    "ax[0].set_title('Original'); ax[0].imshow(test)\n",
    "ax[1].set_title('FT (imag)'); ax[1].imshow(test_ft_shift.imag)\n",
    "ax[2].set_title('FT (real)'); ax[2].imshow(test_ft_shift.real)\n",
    "for axi in ax:\n",
    "    axi.axis('off')\n",
    "plt.show()"
   ]
  },
  {
   "cell_type": "markdown",
   "id": "91b57a2a-a2f0-4afe-9676-446b12feb31a",
   "metadata": {},
   "source": [
    "## inverting back to the original\n",
    "\n",
    "Remember we have complex data! Take the magnitude. Do you see a difference between the images?"
   ]
  },
  {
   "cell_type": "code",
   "execution_count": null,
   "id": "451c9840-3d5f-4bea-8ae7-b06ae2ebd883",
   "metadata": {},
   "outputs": [],
   "source": [
    "%%time\n",
    "\n",
    "test_ft = sp.fftpack.fft2(test)\n",
    "i_test_ft = sp.fftpack.fft2(test_ft)\n",
    "i_test_ft = np.sqrt(i_test_ft.real**2 + i_test_ft.imag**2)[::-1,:]  # this is upside-down by default\n",
    "\n",
    "fig, ax = plt.subplots(1, 2, figsize=(8,2))\n",
    "ax[0].set_title('original'); m = ax[0].imshow(test); fig.colorbar(m, ax=ax[0])\n",
    "ax[1].set_title('iFT(FT(original))'); m = ax[1].imshow(i_test_ft); fig.colorbar(m, ax=ax[1])\n",
    "for axi in ax:\n",
    "    axi.axis('off')\n",
    "plt.show()"
   ]
  },
  {
   "cell_type": "markdown",
   "id": "0c9313c7-03a6-49cd-9fed-fa8bf42ec691",
   "metadata": {},
   "source": [
    "## Fourier filtration\n",
    "\n",
    "Sometimes we want to scale up/down the contribution of certain frequency components, or even eliminate them entirely. This can easily be done in Fourier space. One of the best known examples is probably the CT filtered-back projection ramp filter. But, there are plenty more applications!\n",
    "\n",
    "This uses the \"convolution-multiplication\" theorem. We cover convolution below. The main idea is, to filter in Fourier space, we multiply by a frequency-space kernel.\n",
    "\n",
    "When working with real images, be careful to make sure you use Fourier frequencies that correspond to your REAL image size, not the integer units counting each pixel. This can have disastrous consequences if ignored."
   ]
  },
  {
   "cell_type": "code",
   "execution_count": null,
   "id": "d340f579-cb0a-4232-b246-c9752ac624a5",
   "metadata": {},
   "outputs": [],
   "source": [
    "# 2D frequency components\n",
    "\n",
    "dx = 1e-2  # let's make our pixel size 1 cm. \n",
    "\n",
    "xfreq = sp.fftpack.fftfreq(test.shape[1], d=dx)\n",
    "yfreq = sp.fftpack.fftfreq(test.shape[0], d=dx)\n",
    "FX, FY = np.meshgrid(xfreq, yfreq)\n",
    "freq2d = np.sqrt(FX**2 + FY**2)\n",
    "print(freq2d.shape)\n",
    "\n",
    "fig, ax = plt.subplots(1, 3, figsize=(9,2.7), layout='constrained')\n",
    "ax[0].set_title(r'$x$ frequencies [cm$^{-1}$]'); ax[0].plot(xfreq); ax[0].set_xlabel('index')\n",
    "ax[1].set_title(r'$y$ frequencies [cm$^{-1}$]'); ax[1].plot(yfreq); ax[1].set_xlabel('index')\n",
    "ax[2].set_title('2D frequency image')\n",
    "m = ax[2].imshow(freq2d, extent=(FX.min(), FX.max(), FY.min(), FY.max()))\n",
    "ax[2].set_xlabel(r'$f_x$ [cm$^{-1}$]'); ax[2].set_ylabel(r' $f_y$ [cm$^{-1}$]')\n",
    "fig.colorbar(m, ax=ax[2])\n",
    "plt.show()"
   ]
  },
  {
   "cell_type": "code",
   "execution_count": null,
   "id": "ac11b29f-3b0a-4e47-968c-20ddd1e4fca2",
   "metadata": {},
   "outputs": [],
   "source": [
    "%%time\n",
    "\n",
    "# Make and apply the filter.\n",
    "ft_filter = freq2d  # simple ramp\n",
    "\n",
    "test_ft = sp.fftpack.fft2(test)\n",
    "test_ft_filtered = test_ft * ft_filter\n",
    "i_test_ft = sp.fftpack.fft2(test_ft_filtered)\n",
    "i_test_ft = np.sqrt(i_test_ft.real**2 + i_test_ft.imag**2)[::-1,:]  # this is upside-down by default\n",
    "\n",
    "fig, ax = plt.subplots(1, 2, figsize=(8,2))\n",
    "ax[0].set_title('original'); m = ax[0].imshow(test); fig.colorbar(m, ax=ax[0])\n",
    "ax[1].set_title('ramp filtered'); m = ax[1].imshow(i_test_ft); fig.colorbar(m, ax=ax[1])\n",
    "for axi in ax:\n",
    "    axi.axis('off')\n",
    "plt.show()"
   ]
  },
  {
   "cell_type": "markdown",
   "id": "7a9e3479-f993-4ba0-b1ce-b4f799141b51",
   "metadata": {},
   "source": [
    "Discuss: why does it look that way? Which frequency components does the ramp strengthen?"
   ]
  },
  {
   "cell_type": "markdown",
   "id": "f5546955-77fd-4ba5-9ace-9c3d3ec216ee",
   "metadata": {},
   "source": [
    "# Convolution\n",
    "\n",
    "Different filters have different uses! See some examples."
   ]
  },
  {
   "cell_type": "code",
   "execution_count": null,
   "id": "6950779c-6411-4f8c-b61b-ae381434e747",
   "metadata": {},
   "outputs": [],
   "source": [
    "## Helpers\n",
    "\n",
    "def convolve_2D(M,k):\n",
    "    \"\"\"\n",
    "    This gives you an idea of how to DIY a convolution.\n",
    "    But scipy has a better function that is probably faster.\n",
    "    \"\"\"\n",
    "    M = np.array(M)\n",
    "    Ny, Nx = M.shape\n",
    "    Nk, Nk = k.shape  # hopefully this is odd and square\n",
    "    dk = Nk//2\n",
    "    result = np.zeros(M.shape)\n",
    "    for j in range(dk,Ny-dk):\n",
    "        for i in range(dk,Nx-dk):\n",
    "            for jk in range(Nk):\n",
    "                for ik in range(Nk):\n",
    "                    result[j,i] += M[j-dk+jk, i-dk+ik]*k[jk,ik]   \n",
    "    return result\n",
    "                    \n",
    "def show_kernel(ax, kernel):\n",
    "    \"\"\"\n",
    "    for nice kernel plotting with number labels\n",
    "    \"\"\"\n",
    "    knorm = kernel - np.min(kernel)\n",
    "    if np.std(knorm)>0:\n",
    "        knorm = knorm / np.max(knorm)\n",
    "    Nk, Nk = knorm.shape\n",
    "    ax.imshow(knorm, cmap='gray', vmin=-1,vmax=1,extent=(0,Nk,0,Nk))\n",
    "    ax.set_xticks(range(Nk+1))\n",
    "    ax.set_yticks(range(Nk+1))\n",
    "    ax.grid(which='both',color='k')\n",
    "    \n",
    "    # label vals\n",
    "    fsz = 12*3/Nk\n",
    "    for i in range(Nk):\n",
    "        for j in range(Nk):\n",
    "            ax.text(i+0.5,j+0.5,kernel[j,i],fontsize=fsz,  ha='center', va='center')"
   ]
  },
  {
   "cell_type": "code",
   "execution_count": null,
   "id": "fcf86788-4fd6-43f2-be63-dd8c01b62ede",
   "metadata": {},
   "outputs": [],
   "source": [
    "%%time\n",
    "\n",
    "test = data \n",
    "\n",
    "# some kernels\n",
    "k0 = np.ones([3,3],dtype=int)\n",
    "k1 = np.ones([7,7],dtype=int)\n",
    "sobel_h = np.array([[-1,-2,-1],[0,0,0],[1,2,1]])\n",
    "sobel_v = sobel_h.T\n",
    "\n",
    "kernels = [k0, k1, sobel_h, sobel_v]\n",
    "names = ['ones_3', 'ones_7', 'sobel_h', 'sobel_v']\n",
    "for i, kernel in enumerate(kernels):\n",
    "    out = convolve_2D(test, kernel)\n",
    "    fig,ax=plt.subplots(1,2,dpi=150, figsize=[7.5,3], facecolor='w',\n",
    "                       gridspec_kw={'width_ratios':[1, data.shape[1]/data.shape[0]]})\n",
    "    show_kernel(ax[0], kernel)\n",
    "    ax[1].imshow(out,  cmap='gray')\n",
    "    ax[1].axis('off')\n",
    "    fig.tight_layout()\n",
    "    plt.show()"
   ]
  },
  {
   "cell_type": "markdown",
   "id": "04f08d7f-6d5e-454c-af3e-fef6e345a78c",
   "metadata": {},
   "source": [
    "## Edge detection: Sobel filtration + thresholding\n",
    "\n",
    "Above, we showed how to use horizontal and vertical Sobel filters. But how can we combine them to get a single edge detection filter?"
   ]
  },
  {
   "cell_type": "code",
   "execution_count": null,
   "id": "4ec501bf-f80c-4a36-bdc8-b6e0d24f72e4",
   "metadata": {},
   "outputs": [],
   "source": [
    "%%time\n",
    "\n",
    "edge_h = convolve_2D(test, sobel_h)\n",
    "edge_v = convolve_2D(test, sobel_v)\n",
    "edge_mag = np.sqrt(edge_h**2 + edge_v**2)\n",
    "\n",
    "fig,ax=plt.subplots(1,2,dpi=300)\n",
    "ax[0].imshow(test, cmap='gray')\n",
    "ax[1].imshow(edge_mag,  cmap='gray')\n",
    "for axi in ax:\n",
    "    axi.axis('off')\n",
    "fig.tight_layout()\n",
    "plt.show()"
   ]
  },
  {
   "cell_type": "code",
   "execution_count": null,
   "id": "5e60d97b-74e7-4334-a5dc-6908e47c8f84",
   "metadata": {},
   "outputs": [],
   "source": [
    "%%time\n",
    "\n",
    "# Add an intensity threshold mask to get a binary \"edge map\"\n",
    "\n",
    "t = 0.2  # try different values!\n",
    "edge_mag = edge_mag/np.max(edge_mag)\n",
    "edge_mag[edge_mag<t] = 0\n",
    "edge_mag[edge_mag>t] = 1\n",
    "\n",
    "fig, ax = plt.subplots(1, 2)\n",
    "ax[0].imshow(test, cmap='gray')\n",
    "ax[1].imshow(edge_mag,  cmap='gray')\n",
    "for axi in ax:\n",
    "    axi.axis('off')\n",
    "fig.tight_layout()\n",
    "plt.show()"
   ]
  },
  {
   "cell_type": "markdown",
   "id": "d86467d6-e027-4e14-a658-b201fe9f35f5",
   "metadata": {},
   "source": [
    "# Application: Vision Simulator"
   ]
  },
  {
   "cell_type": "code",
   "execution_count": null,
   "id": "bfe9f429-46df-48f8-b5ad-1ec3e76a825f",
   "metadata": {},
   "outputs": [],
   "source": [
    "## Your turn! See the instructions in guide.pdf"
   ]
  }
 ],
 "metadata": {
  "kernelspec": {
   "display_name": "Python 3 (ipykernel)",
   "language": "python",
   "name": "python3"
  },
  "language_info": {
   "codemirror_mode": {
    "name": "ipython",
    "version": 3
   },
   "file_extension": ".py",
   "mimetype": "text/x-python",
   "name": "python",
   "nbconvert_exporter": "python",
   "pygments_lexer": "ipython3",
   "version": "3.12.0"
  }
 },
 "nbformat": 4,
 "nbformat_minor": 5
}
